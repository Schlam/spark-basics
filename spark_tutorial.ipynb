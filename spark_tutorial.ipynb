{
  "nbformat": 4,
  "nbformat_minor": 0,
  "metadata": {
    "kernelspec": {
      "display_name": "Python 3",
      "language": "python",
      "name": "python3"
    },
    "language_info": {
      "codemirror_mode": {
        "name": "ipython",
        "version": 3
      },
      "file_extension": ".py",
      "mimetype": "text/x-python",
      "name": "python",
      "nbconvert_exporter": "python",
      "pygments_lexer": "ipython3",
      "version": "3.7.4"
    },
    "colab": {
      "name": "spark_tutorial.ipynb",
      "provenance": [],
      "toc_visible": true
    }
  },
  "cells": [
    {
      "cell_type": "markdown",
      "metadata": {
        "id": "0GuRODSQl93t"
      },
      "source": [
        "# Apache Spark\n",
        "\n",
        "**Analyze large datasets on clusters using Apache Spark**\n",
        "\n",
        "This notebook is intended to run in Google CoLab.\n",
        "Skip the next code block if ran locally."
      ]
    },
    {
      "cell_type": "markdown",
      "metadata": {
        "ExecuteTime": {
          "end_time": "2020-12-31T20:51:28.902749Z",
          "start_time": "2020-12-31T20:51:28.898244Z"
        },
        "id": "np3dWwxFl93x"
      },
      "source": [
        "## Colab Setup"
      ]
    },
    {
      "cell_type": "code",
      "metadata": {
        "id": "4sA9bm3sl93y"
      },
      "source": [
        "# Find the latest version of spark from http://www-us.apache.org/dist/spark/ \n",
        "spark_version = 'spark-3.0.1'"
      ],
      "execution_count": null,
      "outputs": []
    },
    {
      "cell_type": "code",
      "metadata": {
        "colab": {
          "base_uri": "https://localhost:8080/"
        },
        "id": "7fRRrIEMl93y",
        "outputId": "bec2c169-5ba9-4a76-8755-18ddb926feb8"
      },
      "source": [
        "# Set Environment Variables\n",
        "import os\n",
        "os.environ['SPARK_VERSION'] = spark_version\n",
        "os.environ['BASE_URL'] = 'http://www-us.apache.org/dist/spark'\n",
        "os.environ[\"JAVA_HOME\"] = \"/usr/lib/jvm/java-11-openjdk-amd64\"\n",
        "os.environ[\"SPARK_HOME\"] = f\"/content/{spark_version}-bin-hadoop2.7\"\n",
        "\n",
        "# Install spark, java, and findspark\n",
        "!apt-get update\n",
        "!apt-get install openjdk-11-jdk-headless -qq > /dev/null\n",
        "!wget -q $BASE_URL/$SPARK_VERSION/$SPARK_VERSION-bin-hadoop2.7.tgz\n",
        "!tar xf $SPARK_VERSION-bin-hadoop2.7.tgz\n",
        "!pip install -q findspark\n",
        "\n",
        "# Initialize spark session\n",
        "import findspark\n",
        "findspark.init()"
      ],
      "execution_count": null,
      "outputs": [
        {
          "output_type": "stream",
          "text": [
            "Hit:1 http://security.ubuntu.com/ubuntu bionic-security InRelease\n",
            "Ign:2 https://developer.download.nvidia.com/compute/cuda/repos/ubuntu1804/x86_64  InRelease\n",
            "Hit:3 https://cloud.r-project.org/bin/linux/ubuntu bionic-cran40/ InRelease\n",
            "Ign:4 https://developer.download.nvidia.com/compute/machine-learning/repos/ubuntu1804/x86_64  InRelease\n",
            "Hit:5 http://ppa.launchpad.net/c2d4u.team/c2d4u4.0+/ubuntu bionic InRelease\n",
            "Hit:6 http://archive.ubuntu.com/ubuntu bionic InRelease\n",
            "Hit:7 https://developer.download.nvidia.com/compute/cuda/repos/ubuntu1804/x86_64  Release\n",
            "Hit:8 https://developer.download.nvidia.com/compute/machine-learning/repos/ubuntu1804/x86_64  Release\n",
            "Hit:9 http://archive.ubuntu.com/ubuntu bionic-updates InRelease\n",
            "Hit:10 http://ppa.launchpad.net/cran/libgit2/ubuntu bionic InRelease\n",
            "Hit:11 http://archive.ubuntu.com/ubuntu bionic-backports InRelease\n",
            "Hit:12 http://ppa.launchpad.net/graphics-drivers/ppa/ubuntu bionic InRelease\n",
            "Reading package lists... Done\n"
          ],
          "name": "stdout"
        }
      ]
    },
    {
      "cell_type": "markdown",
      "metadata": {
        "id": "_IfxFtnHl93z"
      },
      "source": [
        "## Introduction to Spark"
      ]
    },
    {
      "cell_type": "markdown",
      "metadata": {
        "id": "mPSlvlPtl93z"
      },
      "source": [
        "### Start session\n",
        "\n",
        "Initialize a SparkSession from pyspark"
      ]
    },
    {
      "cell_type": "code",
      "metadata": {
        "id": "bp3zwwsPl93z"
      },
      "source": [
        "from pyspark.sql import SparkSession\n",
        "\n",
        "\n",
        "# Start spark session\n",
        "spark = SparkSession\\\n",
        "    .builder\\\n",
        "    .appName(\"DataFrameBasics\")\\\n",
        "    .getOrCreate()"
      ],
      "execution_count": null,
      "outputs": []
    },
    {
      "cell_type": "markdown",
      "metadata": {
        "id": "BNCACf_ul930"
      },
      "source": [
        "### Create a DataFrame\n",
        "\n",
        "Using an array of tuples and two headers, create an example dataframe"
      ]
    },
    {
      "cell_type": "code",
      "metadata": {
        "colab": {
          "base_uri": "https://localhost:8080/"
        },
        "id": "pbop1niel930",
        "outputId": "98446414-505e-42cc-bbaf-b1dc885b2777"
      },
      "source": [
        "# Example dataframe\n",
        "df = spark.createDataFrame(\n",
        "    [(0, 'A'),\n",
        "     (1, 'B'), \n",
        "     (2, 'C'),], \n",
        "    ['id', 'words'])\n",
        "\n",
        "# Show head of dataframe\n",
        "df.show()"
      ],
      "execution_count": null,
      "outputs": [
        {
          "output_type": "stream",
          "text": [
            "+---+-----+\n",
            "| id|words|\n",
            "+---+-----+\n",
            "|  0|    A|\n",
            "|  1|    B|\n",
            "|  2|    C|\n",
            "+---+-----+\n",
            "\n"
          ],
          "name": "stdout"
        }
      ]
    },
    {
      "cell_type": "markdown",
      "metadata": {
        "id": "6DsUModdl931"
      },
      "source": [
        "### SparkFiles\n",
        "Connect to Amazon's S3 using sparkfiles"
      ]
    },
    {
      "cell_type": "markdown",
      "metadata": {
        "ExecuteTime": {
          "end_time": "2020-12-31T18:53:01.216975Z",
          "start_time": "2020-12-31T18:53:01.212081Z"
        },
        "id": "Srxd5yXKl931"
      },
      "source": [
        "#### Food data"
      ]
    },
    {
      "cell_type": "code",
      "metadata": {
        "id": "WjHY3JQ7l931"
      },
      "source": [
        "from pyspark import SparkFiles\n",
        "\n",
        "\n",
        "# Url for data in s3\n",
        "# url = 'https://s3.amazonaws.com/dataviz-curriculum/day_1/food.csv'\n",
        "url = 'https://s3.amazonaws.com/dataviz-curriculum/day_1/food.csv'\n",
        "\n",
        "# Add file to session\n",
        "spark.sparkContext.addFile(url)\n",
        "\n",
        "# create dataframe from csv\n",
        "dataframe = spark.read.csv(\n",
        "    SparkFiles.get('food.csv'), \n",
        "    header=True)"
      ],
      "execution_count": null,
      "outputs": []
    },
    {
      "cell_type": "code",
      "metadata": {
        "colab": {
          "base_uri": "https://localhost:8080/"
        },
        "id": "HM2ZXfo1l932",
        "outputId": "bff19084-48c2-44be-e6b2-8a921ea15a65"
      },
      "source": [
        "# Show dataframe\n",
        "dataframe.show()"
      ],
      "execution_count": null,
      "outputs": [
        {
          "output_type": "stream",
          "text": [
            "+-------+-----+\n",
            "|   food|price|\n",
            "+-------+-----+\n",
            "|  pizza|    0|\n",
            "|  sushi|   12|\n",
            "|chinese|   10|\n",
            "+-------+-----+\n",
            "\n"
          ],
          "name": "stdout"
        }
      ]
    },
    {
      "cell_type": "code",
      "metadata": {
        "colab": {
          "base_uri": "https://localhost:8080/"
        },
        "id": "hgsgYaPUl932",
        "outputId": "a5a4f756-a8eb-4d2f-d8a4-677c348a3d32"
      },
      "source": [
        "# Print schema\n",
        "dataframe.printSchema()"
      ],
      "execution_count": null,
      "outputs": [
        {
          "output_type": "stream",
          "text": [
            "root\n",
            " |-- food: string (nullable = true)\n",
            " |-- price: string (nullable = true)\n",
            "\n"
          ],
          "name": "stdout"
        }
      ]
    },
    {
      "cell_type": "code",
      "metadata": {
        "colab": {
          "base_uri": "https://localhost:8080/"
        },
        "id": "ZyRZk7_5l932",
        "outputId": "9d25c0ec-7d30-49e2-e6b4-15b1723e414e"
      },
      "source": [
        "# Show columns\n",
        "dataframe.columns"
      ],
      "execution_count": null,
      "outputs": [
        {
          "output_type": "execute_result",
          "data": {
            "text/plain": [
              "['food', 'price']"
            ]
          },
          "metadata": {
            "tags": []
          },
          "execution_count": 8
        }
      ]
    },
    {
      "cell_type": "code",
      "metadata": {
        "ExecuteTime": {
          "end_time": "2020-12-31T20:52:52.053215Z",
          "start_time": "2020-12-31T20:52:51.870240Z"
        },
        "colab": {
          "base_uri": "https://localhost:8080/"
        },
        "id": "zrgAyyGfl933",
        "outputId": "1989547a-552d-41f7-b7f4-199e506754df"
      },
      "source": [
        "# Describe data\n",
        "dataframe.describe()"
      ],
      "execution_count": null,
      "outputs": [
        {
          "output_type": "execute_result",
          "data": {
            "text/plain": [
              "DataFrame[summary: string, food: string, price: string]"
            ]
          },
          "metadata": {
            "tags": []
          },
          "execution_count": 9
        }
      ]
    },
    {
      "cell_type": "markdown",
      "metadata": {
        "id": "z9n7tnPEl933"
      },
      "source": [
        "##### Transform data\n",
        "Change price data type to integer"
      ]
    },
    {
      "cell_type": "markdown",
      "metadata": {
        "ExecuteTime": {
          "end_time": "2020-12-31T18:53:33.503167Z",
          "start_time": "2020-12-31T18:53:33.498375Z"
        },
        "id": "74Hjpsfdl933"
      },
      "source": [
        "##### Change schema"
      ]
    },
    {
      "cell_type": "code",
      "metadata": {
        "colab": {
          "base_uri": "https://localhost:8080/"
        },
        "id": "WlX5l6all934",
        "outputId": "f3d5018a-fc35-41ef-922e-559a476d08aa"
      },
      "source": [
        "from pyspark.sql.types import StructField as Field\n",
        "from pyspark.sql.types import StringType, IntegerType, StructType\n",
        "\n",
        "\n",
        "# Create a list of structure fields\n",
        "schema = StructType(fields=[\n",
        "    Field(\"food\", StringType(), True), \n",
        "    Field(\"price\", IntegerType(), True),\n",
        "])\n",
        "\n",
        "# Load dataframe with correct schema\n",
        "dataframe = spark.read.csv(\n",
        "    SparkFiles.get('food.csv'),\n",
        "    schema=schema,\n",
        "    header=True)\n",
        "\n",
        "# Print schema\n",
        "dataframe.printSchema()"
      ],
      "execution_count": null,
      "outputs": [
        {
          "output_type": "stream",
          "text": [
            "root\n",
            " |-- food: string (nullable = true)\n",
            " |-- price: integer (nullable = true)\n",
            "\n"
          ],
          "name": "stdout"
        }
      ]
    },
    {
      "cell_type": "markdown",
      "metadata": {
        "id": "7DE-IT54l934"
      },
      "source": [
        "### Some other data frame methods\n",
        "\n",
        "Manipulate columns using the ```.withColumn*``` methods"
      ]
    },
    {
      "cell_type": "code",
      "metadata": {
        "colab": {
          "base_uri": "https://localhost:8080/"
        },
        "id": "h26WjHpGl934",
        "outputId": "402afe67-29f0-4277-8266-a71b5986d3e4"
      },
      "source": [
        "# New price column\n",
        "dataframe.withColumn(\n",
        "    'newprice', dataframe['price']\n",
        ").show()"
      ],
      "execution_count": null,
      "outputs": [
        {
          "output_type": "stream",
          "text": [
            "+-------+-----+--------+\n",
            "|   food|price|newprice|\n",
            "+-------+-----+--------+\n",
            "|  pizza|    0|       0|\n",
            "|  sushi|   12|      12|\n",
            "|chinese|   10|      10|\n",
            "+-------+-----+--------+\n",
            "\n"
          ],
          "name": "stdout"
        }
      ]
    },
    {
      "cell_type": "code",
      "metadata": {
        "colab": {
          "base_uri": "https://localhost:8080/"
        },
        "id": "JRxIkqKNl935",
        "outputId": "fd69f71d-34e9-4466-d564-999e6476ee66"
      },
      "source": [
        "# Make column name uppercase\n",
        "dataframe.withColumnRenamed('price','Price').show()"
      ],
      "execution_count": null,
      "outputs": [
        {
          "output_type": "stream",
          "text": [
            "+-------+-----+\n",
            "|   food|Price|\n",
            "+-------+-----+\n",
            "|  pizza|    0|\n",
            "|  sushi|   12|\n",
            "|chinese|   10|\n",
            "+-------+-----+\n",
            "\n"
          ],
          "name": "stdout"
        }
      ]
    },
    {
      "cell_type": "code",
      "metadata": {
        "colab": {
          "base_uri": "https://localhost:8080/"
        },
        "id": "6a4ObrC3l935",
        "outputId": "c90b6a02-de2e-4649-ec21-26d41d03aef2"
      },
      "source": [
        "# Use arithmetic function to transform the data\n",
        "dataframe.withColumn(\n",
        "    'DoublePrice', dataframe['Price'] * 2\n",
        ").show()"
      ],
      "execution_count": null,
      "outputs": [
        {
          "output_type": "stream",
          "text": [
            "+-------+-----+-----------+\n",
            "|   food|price|DoublePrice|\n",
            "+-------+-----+-----------+\n",
            "|  pizza|    0|          0|\n",
            "|  sushi|   12|         24|\n",
            "|chinese|   10|         20|\n",
            "+-------+-----+-----------+\n",
            "\n"
          ],
          "name": "stdout"
        }
      ]
    }
  ]
}